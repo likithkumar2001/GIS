{
 "cells": [
  {
   "cell_type": "code",
   "execution_count": 1,
   "metadata": {},
   "outputs": [],
   "source": [
    "from selenium import webdriver \n",
    "from selenium.webdriver.common.by import By \n",
    "from selenium.webdriver.support.ui import WebDriverWait \n",
    "from selenium.webdriver.support import expected_conditions as EC \n",
    "from selenium.common.exceptions import TimeoutException\n",
    "from bs4 import BeautifulSoup\n",
    "import pandas as pd\n",
    "import re\n",
    "from datetime import datetime\n",
    "from itertools import compress\n",
    "import time\n",
    "import os"
   ]
  },
  {
   "cell_type": "code",
   "execution_count": 3,
   "metadata": {},
   "outputs": [],
   "source": [
    "options = {'driver':r'C:\\Users\\likith\\Desktop\\QGIS\\project\\chromedriver.exe',\n",
    "           'output':'ALL_Data',\n",
    "           'sdate':'01-01-2019'\n",
    "          }"
   ]
  },
  {
   "cell_type": "code",
   "execution_count": 6,
   "metadata": {},
   "outputs": [
    {
     "name": "stderr",
     "output_type": "stream",
     "text": [
      "<ipython-input-6-029efec1e6d7>:4: DeprecationWarning: use options instead of chrome_options\n",
      "  browser = webdriver.Chrome(executable_path=\"{}\".format(options['driver']), chrome_options=option)\n"
     ]
    }
   ],
   "source": [
    "global url,option,browser\n",
    "url = 'https://app.cpcbccr.com/AQI_India/#' \n",
    "option=webdriver.ChromeOptions()\n",
    "browser = webdriver.Chrome(executable_path=\"{}\".format(options['driver']), chrome_options=option)\n",
    "browser.get(url)\n",
    "time.sleep(5)"
   ]
  },
  {
   "cell_type": "code",
   "execution_count": 7,
   "metadata": {},
   "outputs": [],
   "source": [
    "def get_states():\n",
    "    st = browser.page_source\n",
    "    soup = BeautifulSoup(st, 'html.parser')\n",
    "    table = soup.find(\"select\",{\"id\":\"states\"})\n",
    "    states  = []\n",
    "    for i in table.find_all(\"option\"):\n",
    "        states.append(i.text)\n",
    "    return states[1:]"
   ]
  },
  {
   "cell_type": "code",
   "execution_count": 8,
   "metadata": {},
   "outputs": [],
   "source": [
    "def get_cities(states,state):\n",
    "    path = '//*[@id=\"states\"]/option['+str(states.index(state)+2)+']'\n",
    "    browser.find_element_by_xpath(path).click()\n",
    "    time.sleep(5)\n",
    "    st = browser.page_source\n",
    "    soup = BeautifulSoup(st, 'html.parser')\n",
    "    table2 = soup.find(\"select\",{\"id\":\"cities\"})\n",
    "    cities  = []\n",
    "    for i in table2.find_all(\"option\"):\n",
    "        cities.append(i.text)\n",
    "    return cities[1:]"
   ]
  },
  {
   "cell_type": "code",
   "execution_count": 9,
   "metadata": {},
   "outputs": [],
   "source": [
    "def get_stations(cities,city):\n",
    "    path = '//*[@id=\"cities\"]/option['+str(cities.index(city)+2)+']'\n",
    "    browser.find_element_by_xpath(path).click()\n",
    "    time.sleep(5)\n",
    "    st = browser.page_source\n",
    "    soup = BeautifulSoup(st, 'html.parser')\n",
    "    table2 = soup.find(\"select\",{\"id\":\"stations\"})\n",
    "    stations  = []\n",
    "    for i in table2.find_all(\"option\"):\n",
    "        stations.append(i.text)\n",
    "    return stations[1:]"
   ]
  },
  {
   "cell_type": "code",
   "execution_count": 10,
   "metadata": {},
   "outputs": [],
   "source": []
  },
  {
   "cell_type": "code",
   "execution_count": 28,
   "metadata": {},
   "outputs": [],
   "source": [
    "def extract_data(stations,date):\n",
    "    date = date\n",
    "    stations=stations\n",
    "    over_data = []\n",
    "    path = '//*[@id=\"time\"]'\n",
    "    browser.find_element_by_xpath(path).click()\n",
    "    browser.find_element_by_xpath(path).clear()\n",
    "    time.sleep(0.5)\n",
    "    browser.find_element_by_xpath(path).send_keys('0:00')\n",
    "    time.sleep(0.5)\n",
    "    browser.find_element_by_xpath('/html/body').click()\n",
    "    path = '//*[@id=\"date\"]/input'\n",
    "    browser.find_element_by_xpath(path).click()\n",
    "    browser.find_element_by_xpath(path).clear()\n",
    "    time.sleep(2)\n",
    "    browser.find_element_by_xpath(path).send_keys(date)\n",
    "    time.sleep(2)\n",
    "    browser.find_element_by_xpath('/html/body').click()\n",
    "    for i in stations:\n",
    "        time.sleep(3)\n",
    "        data =[]\n",
    "        s = [i]\n",
    "        path = '//*[@id=\"stations\"]/option['+str(stations.index(i)+2)+']'\n",
    "        browser.find_element_by_xpath(path).click()\n",
    "        time.sleep(2)\n",
    "        st = browser.page_source\n",
    "        soup = BeautifulSoup(st, 'html.parser')\n",
    "        tab =soup.find_all('td',{\"class\":\"element-name\"})\n",
    "        parameters  = []\n",
    "        for i in tab:\n",
    "            parameters.append(i.text)\n",
    "        req = ['PM2.5','PM10']\n",
    "        #req = ['PM2.5']\n",
    "\n",
    "        tab =soup.find_all('div',{\"aria-label\":\"A tabular representation of the data in the chart.\"})\n",
    "        try:\n",
    "            count = 0\n",
    "            date = []\n",
    "            pm = []\n",
    "            x =tab[parameters.index(req[0])].find_all('td')\n",
    "            y =tab[parameters.index(req[1])].find_all('td')\n",
    "            for j in x:\n",
    "                if count%2 == 1:\n",
    "                    pm.append(j.text)\n",
    "                else:\n",
    "                    date.append(j.text)\n",
    "                count = count+1\n",
    "            data.append(list(s))\n",
    "            data.append(list(pm))\n",
    "            data.append(list(date))\n",
    "            count = 0\n",
    "            date = []\n",
    "            pm = []\n",
    "            for j in y:\n",
    "                if count%2 == 1:\n",
    "                    pm.append(j.text)\n",
    "                else:\n",
    "                    date.append(j.text)\n",
    "                count = count+1\n",
    "            data.append(list(pm))\n",
    "            data.append(list(date))\n",
    "        except:\n",
    "            pass\n",
    "        if len(data) >0:\n",
    "            over_data.append(data)\n",
    "    return over_data"
   ]
  },
  {
   "cell_type": "code",
   "execution_count": null,
   "metadata": {},
   "outputs": [],
   "source": [
    "states = get_states()\n",
    "for i in states:\n",
    "    cities = get_cities(states,i)\n",
    "    for j in cities:\n",
    "        stations = get_stations(cities,j)      \n",
    "        for k in stations:\n",
    "            "
   ]
  },
  {
   "cell_type": "code",
   "execution_count": 12,
   "metadata": {},
   "outputs": [
    {
     "name": "stdout",
     "output_type": "stream",
     "text": [
      "['Andhra Pradesh', 'Arunachal Pradesh', 'Assam', 'Bihar', 'Chandigarh', 'Chhattisgarh', 'Delhi', 'Gujarat', 'Haryana', 'Jammu and Kashmir', 'Jharkhand', 'Karnataka', 'Kerala', 'Madhya Pradesh', 'Maharashtra', 'Meghalaya ', 'Mizoram', 'Nagaland', 'Odisha', 'Puducherry', 'Punjab', 'Rajasthan', 'Tamil Nadu', 'Telangana', 'Tripura', 'Uttar Pradesh', 'West Bengal']\n",
      "Enter the state name here : All\n",
      "['Amaravati', 'Rajamahendravaram', 'Tirupati', 'Visakhapatnam']\n",
      "['Naharlagun']\n",
      "['Guwahati']\n",
      "['Bettiah', 'Bihar Sharif', 'Darbhanga', 'Gaya', 'Hajipur', 'Motihari', 'Muzaffarpur', 'Patna']\n",
      "['Chandigarh']\n",
      "['Bilaspur']\n",
      "['Delhi']\n",
      "['Ahmedabad', 'Ankleshwar', 'Gandhinagar', 'Nandesari', 'Vapi', 'Vatva']\n",
      "['Ambala ', 'Bahadurgarh ', 'Ballabgarh', 'Bhiwani', 'Charkhi Dadri', 'Dharuhera', 'Faridabad', 'Fatehabad ', 'Gurugram', 'Hisar', 'Jind', 'Kaithal', 'Karnal', 'Kurukshetra ', 'Mandikhera', 'Manesar', 'Narnaul', 'Palwal ', 'Panchkula', 'Panipat', 'Rohtak', 'Sirsa', 'Sonipat', 'Yamunanagar']\n",
      "['Srinagar']\n",
      "['Jorapokhar']\n",
      "['Bagalkot', 'Bengaluru', 'Bidar', 'Chamarajanagar', 'Chikkaballapur', 'Chikkamagaluru', 'Davanagere', 'Gadag', 'Hassan', 'Hubballi', 'Kalaburagi', 'Kolar', 'Koppal', 'Madikeri', 'Mangalore', 'Mysuru', 'Raichur', 'Ramanagara', 'Shivamogga', 'Udupi', 'Vijayapura', 'Yadgir']\n",
      "['Eloor', 'Ernakulam', 'Kannur', 'Kochi', 'Kollam', 'Kozhikode', 'Thiruvananthapuram', 'Thrissur']\n",
      "['Bhopal', 'Damoh', 'Dewas', 'Gwalior', 'Indore', 'Jabalpur', 'Katni', 'Maihar', 'Mandideep', 'Pithampur', 'Ratlam', 'Sagar', 'Satna', 'Singrauli', 'Ujjain']\n",
      "['Aurangabad', 'Chandrapur', 'Kalyan', 'Mumbai', 'Nagpur', 'Nashik', 'Navi Mumbai', 'Pune', 'Solapur', 'Thane']\n",
      "['Shillong']\n",
      "['Aizawl']\n",
      "['Kohima']\n",
      "['Brajrajnagar', 'Talcher']\n",
      "['Puducherry']\n",
      "['Amritsar', 'Bathinda ', 'Jalandhar', 'Khanna', 'Ludhiana', 'Mandi Gobindgarh', 'Patiala', 'Rupnagar']\n",
      "['Ajmer', 'Alwar', 'Bhiwadi', 'Jaipur', 'Jodhpur', 'Kota', 'Pali', 'Udaipur']\n",
      "['Chennai', 'Coimbatore', 'Gummidipoondi', 'Thoothukudi']\n",
      "['Hyderabad']\n",
      "['Agartala']\n",
      "['Agra', 'Baghpat', 'Bulandshahr', 'Firozabad', 'Ghaziabad', 'Gorakhpur', 'Greater Noida', 'Hapur', 'Kanpur', 'Lucknow', 'Meerut', 'Moradabad', 'Muzaffarnagar', 'Noida', 'Prayagraj', 'Varanasi', 'Vrindavan']\n",
      "['Asansol', 'Durgapur', 'Haldia', 'Howrah', 'Kolkata', 'Siliguri']\n"
     ]
    }
   ],
   "source": [
    "cities = []\n",
    "states = get_states()\n",
    "print(states)\n",
    "inp = input('Enter the state name here : ')\n",
    "if inp != 'All':\n",
    "    cities = get_cities(states,inp)\n",
    "else:\n",
    "    for i in states:\n",
    "        print(get_cities(states,i))"
   ]
  },
  {
   "cell_type": "code",
   "execution_count": 10,
   "metadata": {},
   "outputs": [
    {
     "name": "stdout",
     "output_type": "stream",
     "text": [
      "['Bagalkot', 'Bengaluru', 'Bidar', 'Chamarajanagar', 'Chikkaballapur', 'Chikkamagaluru', 'Davanagere', 'Gadag', 'Hassan', 'Hubballi', 'Kalaburagi', 'Kolar', 'Koppal', 'Madikeri', 'Mangalore', 'Mysuru', 'Raichur', 'Ramanagara', 'Shivamogga', 'Udupi', 'Vijayapura', 'Yadgir']\n",
      "Enter the city name here :   Bengaluru\n"
     ]
    }
   ],
   "source": [
    "print(cities)\n",
    "stations = []\n",
    "inp = input('Enter the city name here :   ')\n",
    "stations = get_stations(cities,inp)"
   ]
  },
  {
   "cell_type": "code",
   "execution_count": 11,
   "metadata": {},
   "outputs": [
    {
     "data": {
      "text/plain": [
       "['BTM Layout, Bengaluru - CPCB',\n",
       " 'BWSSB Kadabesanahalli, Bengaluru - CPCB',\n",
       " 'Bapuji Nagar, Bengaluru - KSPCB',\n",
       " 'City Railway Station, Bengaluru - KSPCB',\n",
       " 'Hebbal, Bengaluru - KSPCB',\n",
       " 'Hombegowda Nagar, Bengaluru - KSPCB',\n",
       " 'Jayanagar 5th Block, Bengaluru - KSPCB',\n",
       " 'Peenya, Bengaluru - CPCB',\n",
       " 'Sanegurava Halli, Bengaluru - KSPCB',\n",
       " 'Silk Board, Bengaluru - KSPCB']"
      ]
     },
     "execution_count": 11,
     "metadata": {},
     "output_type": "execute_result"
    }
   ],
   "source": [
    "stations"
   ]
  },
  {
   "cell_type": "code",
   "execution_count": 21,
   "metadata": {},
   "outputs": [],
   "source": [
    "def create_dataframe(over_data):\n",
    "    stati = []\n",
    "    p = []\n",
    "    d = []\n",
    "    p2 = []\n",
    "    for i in over_data:\n",
    "        for j in range(len(i[2])):\n",
    "            stati.append(i[0][0])\n",
    "        for k in range(len(i[1])):\n",
    "            p.append(i[1][k])\n",
    "            p2.append(i[3][k])\n",
    "            if i[2][k].split(\" \")[-1] == 'AM' and int(i[2][k].split(\" \")[-2].split(':')[0]) != 12:\n",
    "                h=int(i[2][k].split(\" \")[-2].split(':')[0])\n",
    "                d.append(h)\n",
    "            elif int(i[2][k].split(\" \")[-2].split(':')[0]) == 12 and i[2][k].split(\" \")[-1] == 'PM':\n",
    "                h=int(i[2][k].split(\" \")[-2].split(':')[0])\n",
    "                d.append(h)\n",
    "            else:\n",
    "                h = int(i[2][k].split(\" \")[-2].split(':')[0])\n",
    "                d.append(h+12)\n",
    "    return (stati,p,d,p2)"
   ]
  },
  {
   "cell_type": "code",
   "execution_count": 13,
   "metadata": {},
   "outputs": [],
   "source": [
    "import datetime\n",
    "d1 = datetime.date(2020, 1, 1)\n",
    "d2 = datetime.date(2020, 12, 31)\n",
    "days = [d1 + datetime.timedelta(days=x) for x in range((d2-d1).days + 1)]\n",
    "req_dates = []\n",
    "for day in days:\n",
    "    req_dates.append(day.strftime('%d/%m/%Y'))"
   ]
  },
  {
   "cell_type": "code",
   "execution_count": 14,
   "metadata": {},
   "outputs": [
    {
     "data": {
      "text/plain": [
       "'01/01/2020'"
      ]
     },
     "execution_count": 14,
     "metadata": {},
     "output_type": "execute_result"
    }
   ],
   "source": [
    "req_dates[0]"
   ]
  },
  {
   "cell_type": "code",
   "execution_count": null,
   "metadata": {},
   "outputs": [],
   "source": [
    "import pandas as pd\n",
    "df = pd.DataFrame(columns = ['station','time','PM2.5'])\n",
    "states = get_states()\n",
    "for i in states:\n",
    "    cities = get_cities(states,i)\n",
    "    for j in cities:\n",
    "        stations = get_stations(cities,j)\n",
    "        for d in req_dates:\n",
    "            dta = extract_data(stations,d)\n",
    "            stati,p,d,p2 = create_dataframe(dta)\n",
    "            for k in range(len(stati)):\n",
    "                df = df.append({'State':i,'City':j,'station':stati[k] , 'time' : d[k] , 'PM2.5':p[k],'PM10':p2[k],'date' : d},ignore_index=True)\n",
    "\n",
    "# #if req_dates[0:3].index(i) == 0:\n",
    "# stati,p,d = create_dataframe(dta)\n",
    "# for j in range(len(stati)):\n",
    "#     df = df.append({'station':stati[j] , 'time' : d[j] , 'PM2.5':p[j]},ignore_index=True)\n",
    "# #         df['station'] = stati\n",
    "# #         df['PM2.5']=p\n",
    "# #         df['time'] = d\n",
    "# #     else:\n",
    "# #         stati,p,d = create_dataframe(dta)\n",
    "# #         df['station'].append(stati)\n",
    "# #         df['PM2.5'].append(p)\n",
    "# #         df['time'].append(d)"
   ]
  },
  {
   "cell_type": "code",
   "execution_count": 37,
   "metadata": {
    "scrolled": true
   },
   "outputs": [
    {
     "data": {
      "text/html": [
       "<div>\n",
       "<style scoped>\n",
       "    .dataframe tbody tr th:only-of-type {\n",
       "        vertical-align: middle;\n",
       "    }\n",
       "\n",
       "    .dataframe tbody tr th {\n",
       "        vertical-align: top;\n",
       "    }\n",
       "\n",
       "    .dataframe thead th {\n",
       "        text-align: right;\n",
       "    }\n",
       "</style>\n",
       "<table border=\"1\" class=\"dataframe\">\n",
       "  <thead>\n",
       "    <tr style=\"text-align: right;\">\n",
       "      <th></th>\n",
       "      <th>station</th>\n",
       "      <th>time</th>\n",
       "      <th>PM2.5</th>\n",
       "      <th>Cities</th>\n",
       "      <th>PM10</th>\n",
       "      <th>State</th>\n",
       "      <th>date</th>\n",
       "    </tr>\n",
       "  </thead>\n",
       "  <tbody>\n",
       "    <tr>\n",
       "      <th>164</th>\n",
       "      <td>Tirumala, Tirupati - APPCB</td>\n",
       "      <td>21</td>\n",
       "      <td>48</td>\n",
       "      <td>Tirupati</td>\n",
       "      <td>42</td>\n",
       "      <td>Andhra Pradesh</td>\n",
       "      <td>02/01/2020</td>\n",
       "    </tr>\n",
       "    <tr>\n",
       "      <th>165</th>\n",
       "      <td>Tirumala, Tirupati - APPCB</td>\n",
       "      <td>22</td>\n",
       "      <td>41</td>\n",
       "      <td>Tirupati</td>\n",
       "      <td>36</td>\n",
       "      <td>Andhra Pradesh</td>\n",
       "      <td>02/01/2020</td>\n",
       "    </tr>\n",
       "    <tr>\n",
       "      <th>166</th>\n",
       "      <td>Tirumala, Tirupati - APPCB</td>\n",
       "      <td>23</td>\n",
       "      <td>21</td>\n",
       "      <td>Tirupati</td>\n",
       "      <td>19</td>\n",
       "      <td>Andhra Pradesh</td>\n",
       "      <td>02/01/2020</td>\n",
       "    </tr>\n",
       "    <tr>\n",
       "      <th>167</th>\n",
       "      <td>Tirumala, Tirupati - APPCB</td>\n",
       "      <td>24</td>\n",
       "      <td>15</td>\n",
       "      <td>Tirupati</td>\n",
       "      <td>17</td>\n",
       "      <td>Andhra Pradesh</td>\n",
       "      <td>02/01/2020</td>\n",
       "    </tr>\n",
       "    <tr>\n",
       "      <th>168</th>\n",
       "      <td>Tirumala, Tirupati - APPCB</td>\n",
       "      <td>1</td>\n",
       "      <td>17</td>\n",
       "      <td>Tirupati</td>\n",
       "      <td>16</td>\n",
       "      <td>Andhra Pradesh</td>\n",
       "      <td>03/01/2020</td>\n",
       "    </tr>\n",
       "    <tr>\n",
       "      <th>...</th>\n",
       "      <td>...</td>\n",
       "      <td>...</td>\n",
       "      <td>...</td>\n",
       "      <td>...</td>\n",
       "      <td>...</td>\n",
       "      <td>...</td>\n",
       "      <td>...</td>\n",
       "    </tr>\n",
       "    <tr>\n",
       "      <th>259</th>\n",
       "      <td>GVM Corporation, Visakhapatnam - APPCB</td>\n",
       "      <td>20</td>\n",
       "      <td>98</td>\n",
       "      <td>Visakhapatnam</td>\n",
       "      <td>107</td>\n",
       "      <td>Andhra Pradesh</td>\n",
       "      <td>03/01/2020</td>\n",
       "    </tr>\n",
       "    <tr>\n",
       "      <th>260</th>\n",
       "      <td>GVM Corporation, Visakhapatnam - APPCB</td>\n",
       "      <td>21</td>\n",
       "      <td>114</td>\n",
       "      <td>Visakhapatnam</td>\n",
       "      <td>115</td>\n",
       "      <td>Andhra Pradesh</td>\n",
       "      <td>03/01/2020</td>\n",
       "    </tr>\n",
       "    <tr>\n",
       "      <th>261</th>\n",
       "      <td>GVM Corporation, Visakhapatnam - APPCB</td>\n",
       "      <td>22</td>\n",
       "      <td>119</td>\n",
       "      <td>Visakhapatnam</td>\n",
       "      <td>111</td>\n",
       "      <td>Andhra Pradesh</td>\n",
       "      <td>03/01/2020</td>\n",
       "    </tr>\n",
       "    <tr>\n",
       "      <th>262</th>\n",
       "      <td>GVM Corporation, Visakhapatnam - APPCB</td>\n",
       "      <td>23</td>\n",
       "      <td>122</td>\n",
       "      <td>Visakhapatnam</td>\n",
       "      <td>112</td>\n",
       "      <td>Andhra Pradesh</td>\n",
       "      <td>03/01/2020</td>\n",
       "    </tr>\n",
       "    <tr>\n",
       "      <th>263</th>\n",
       "      <td>GVM Corporation, Visakhapatnam - APPCB</td>\n",
       "      <td>24</td>\n",
       "      <td>107</td>\n",
       "      <td>Visakhapatnam</td>\n",
       "      <td>109</td>\n",
       "      <td>Andhra Pradesh</td>\n",
       "      <td>03/01/2020</td>\n",
       "    </tr>\n",
       "  </tbody>\n",
       "</table>\n",
       "<p>100 rows × 7 columns</p>\n",
       "</div>"
      ],
      "text/plain": [
       "                                    station time PM2.5         Cities PM10  \\\n",
       "164              Tirumala, Tirupati - APPCB   21    48       Tirupati   42   \n",
       "165              Tirumala, Tirupati - APPCB   22    41       Tirupati   36   \n",
       "166              Tirumala, Tirupati - APPCB   23    21       Tirupati   19   \n",
       "167              Tirumala, Tirupati - APPCB   24    15       Tirupati   17   \n",
       "168              Tirumala, Tirupati - APPCB    1    17       Tirupati   16   \n",
       "..                                      ...  ...   ...            ...  ...   \n",
       "259  GVM Corporation, Visakhapatnam - APPCB   20    98  Visakhapatnam  107   \n",
       "260  GVM Corporation, Visakhapatnam - APPCB   21   114  Visakhapatnam  115   \n",
       "261  GVM Corporation, Visakhapatnam - APPCB   22   119  Visakhapatnam  111   \n",
       "262  GVM Corporation, Visakhapatnam - APPCB   23   122  Visakhapatnam  112   \n",
       "263  GVM Corporation, Visakhapatnam - APPCB   24   107  Visakhapatnam  109   \n",
       "\n",
       "              State        date  \n",
       "164  Andhra Pradesh  02/01/2020  \n",
       "165  Andhra Pradesh  02/01/2020  \n",
       "166  Andhra Pradesh  02/01/2020  \n",
       "167  Andhra Pradesh  02/01/2020  \n",
       "168  Andhra Pradesh  03/01/2020  \n",
       "..              ...         ...  \n",
       "259  Andhra Pradesh  03/01/2020  \n",
       "260  Andhra Pradesh  03/01/2020  \n",
       "261  Andhra Pradesh  03/01/2020  \n",
       "262  Andhra Pradesh  03/01/2020  \n",
       "263  Andhra Pradesh  03/01/2020  \n",
       "\n",
       "[100 rows x 7 columns]"
      ]
     },
     "execution_count": 37,
     "metadata": {},
     "output_type": "execute_result"
    }
   ],
   "source": [
    "df.tail(100)"
   ]
  }
 ],
 "metadata": {
  "kernelspec": {
   "display_name": "Python 3",
   "language": "python",
   "name": "python3"
  },
  "language_info": {
   "codemirror_mode": {
    "name": "ipython",
    "version": 3
   },
   "file_extension": ".py",
   "mimetype": "text/x-python",
   "name": "python",
   "nbconvert_exporter": "python",
   "pygments_lexer": "ipython3",
   "version": "3.8.3"
  }
 },
 "nbformat": 4,
 "nbformat_minor": 4
}
