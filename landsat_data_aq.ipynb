{
 "cells": [
  {
   "cell_type": "code",
   "execution_count": 1,
   "metadata": {},
   "outputs": [],
   "source": [
    "import geopandas as gpd\n",
    "import rasterio"
   ]
  },
  {
   "cell_type": "code",
   "execution_count": 2,
   "metadata": {},
   "outputs": [],
   "source": [
    "pointdata = gpd.read_file(r\"C:\\Users\\likith\\Desktop\\QGIS\\project\\landsat\\CPCB_sensors_Sept\\reproj_CPCB.shp\")"
   ]
  },
  {
   "cell_type": "code",
   "execution_count": 3,
   "metadata": {
    "scrolled": true
   },
   "outputs": [
    {
     "name": "stdout",
     "output_type": "stream",
     "text": [
      "epsg:32643\n"
     ]
    }
   ],
   "source": [
    "print(pointdata.crs)"
   ]
  },
  {
   "cell_type": "code",
   "execution_count": 4,
   "metadata": {},
   "outputs": [
    {
     "data": {
      "text/plain": [
       "Index(['OID_', 'Name', 'FolderPath', 'SymbolID', 'AltMode', 'Base', 'Snippet',\n",
       "       'PopupInfo', 'HasLabel', 'LabelID', 'geometry'],\n",
       "      dtype='object')"
      ]
     },
     "execution_count": 4,
     "metadata": {},
     "output_type": "execute_result"
    }
   ],
   "source": [
    "pointdata.columns"
   ]
  },
  {
   "cell_type": "code",
   "execution_count": 5,
   "metadata": {},
   "outputs": [],
   "source": [
    "pointdata = pointdata[[ 'Name','geometry']]"
   ]
  },
  {
   "cell_type": "code",
   "execution_count": 6,
   "metadata": {},
   "outputs": [
    {
     "data": {
      "text/html": [
       "<div>\n",
       "<style scoped>\n",
       "    .dataframe tbody tr th:only-of-type {\n",
       "        vertical-align: middle;\n",
       "    }\n",
       "\n",
       "    .dataframe tbody tr th {\n",
       "        vertical-align: top;\n",
       "    }\n",
       "\n",
       "    .dataframe thead th {\n",
       "        text-align: right;\n",
       "    }\n",
       "</style>\n",
       "<table border=\"1\" class=\"dataframe\">\n",
       "  <thead>\n",
       "    <tr style=\"text-align: right;\">\n",
       "      <th></th>\n",
       "      <th>Name</th>\n",
       "      <th>geometry</th>\n",
       "    </tr>\n",
       "  </thead>\n",
       "  <tbody>\n",
       "    <tr>\n",
       "      <th>0</th>\n",
       "      <td>Silk board</td>\n",
       "      <td>POINT Z (784601.854 1429448.237 0.000)</td>\n",
       "    </tr>\n",
       "    <tr>\n",
       "      <th>1</th>\n",
       "      <td>BWSSD, Kadabesnahalli</td>\n",
       "      <td>POINT Z (790966.423 1431424.929 0.000)</td>\n",
       "    </tr>\n",
       "    <tr>\n",
       "      <th>2</th>\n",
       "      <td>BTM layout Bangalore</td>\n",
       "      <td>POINT Z (781590.905 1429038.664 0.000)</td>\n",
       "    </tr>\n",
       "    <tr>\n",
       "      <th>3</th>\n",
       "      <td>Jayanagar 5th block</td>\n",
       "      <td>POINT Z (780484.618 1429805.506 0.000)</td>\n",
       "    </tr>\n",
       "    <tr>\n",
       "      <th>4</th>\n",
       "      <td>Hombegowda nagar</td>\n",
       "      <td>POINT Z (781032.712 1431768.080 0.000)</td>\n",
       "    </tr>\n",
       "  </tbody>\n",
       "</table>\n",
       "</div>"
      ],
      "text/plain": [
       "                    Name                                geometry\n",
       "0             Silk board  POINT Z (784601.854 1429448.237 0.000)\n",
       "1  BWSSD, Kadabesnahalli  POINT Z (790966.423 1431424.929 0.000)\n",
       "2   BTM layout Bangalore  POINT Z (781590.905 1429038.664 0.000)\n",
       "3    Jayanagar 5th block  POINT Z (780484.618 1429805.506 0.000)\n",
       "4       Hombegowda nagar  POINT Z (781032.712 1431768.080 0.000)"
      ]
     },
     "execution_count": 6,
     "metadata": {},
     "output_type": "execute_result"
    }
   ],
   "source": [
    "pointdata.head()"
   ]
  },
  {
   "cell_type": "code",
   "execution_count": 7,
   "metadata": {
    "scrolled": true
   },
   "outputs": [
    {
     "name": "stdout",
     "output_type": "stream",
     "text": [
      "0    POINT Z (784601.854 1429448.237 0.000)\n",
      "1    POINT Z (790966.423 1431424.929 0.000)\n",
      "2    POINT Z (781590.905 1429038.664 0.000)\n",
      "3    POINT Z (780484.618 1429805.506 0.000)\n",
      "4    POINT Z (781032.712 1431768.080 0.000)\n",
      "5    POINT Z (775538.512 1433193.368 0.000)\n",
      "6    POINT Z (778382.490 1435848.048 0.000)\n",
      "7    POINT Z (775875.579 1437428.579 0.000)\n",
      "8    POINT Z (780472.693 1441789.649 0.000)\n",
      "9    POINT Z (770506.005 1441452.247 0.000)\n",
      "Name: geometry, dtype: geometry\n"
     ]
    }
   ],
   "source": [
    "print(pointdata['geometry'])"
   ]
  },
  {
   "cell_type": "code",
   "execution_count": 8,
   "metadata": {},
   "outputs": [],
   "source": [
    "import os\n",
    "files = os.listdir(\"./purple_air/u_Data\")"
   ]
  },
  {
   "cell_type": "code",
   "execution_count": 9,
   "metadata": {},
   "outputs": [],
   "source": [
    "files = files[-3:]"
   ]
  },
  {
   "cell_type": "code",
   "execution_count": 21,
   "metadata": {},
   "outputs": [
    {
     "data": {
      "text/plain": [
       "'2021_04_03.csv'"
      ]
     },
     "execution_count": 21,
     "metadata": {},
     "output_type": "execute_result"
    }
   ],
   "source": [
    "files[-2]"
   ]
  },
  {
   "cell_type": "code",
   "execution_count": 22,
   "metadata": {},
   "outputs": [],
   "source": [
    "import pandas as pd\n",
    "data = pd.read_csv(\"./purple_air/u_Data/\"+str(files[-2]))"
   ]
  },
  {
   "cell_type": "code",
   "execution_count": 13,
   "metadata": {},
   "outputs": [],
   "source": [
    "data=data.drop(['Unnamed: 9','Unnamed: 0'],axis = 1)"
   ]
  },
  {
   "cell_type": "code",
   "execution_count": 14,
   "metadata": {},
   "outputs": [
    {
     "data": {
      "text/plain": [
       "'2021-04-19 10:00:00 UTC'"
      ]
     },
     "execution_count": 14,
     "metadata": {},
     "output_type": "execute_result"
    }
   ],
   "source": [
    "'2021-04-19 10:00:00 UTC'"
   ]
  },
  {
   "cell_type": "code",
   "execution_count": 129,
   "metadata": {},
   "outputs": [
    {
     "data": {
      "text/plain": [
       "'2021-03-02 00:00:00 UTC'"
      ]
     },
     "execution_count": 129,
     "metadata": {},
     "output_type": "execute_result"
    }
   ],
   "source": [
    "data['created_at'][0]"
   ]
  },
  {
   "cell_type": "code",
   "execution_count": 130,
   "metadata": {},
   "outputs": [],
   "source": [
    "df = pd.DataFrame()\n",
    "for i in range(len(data['created_at'])):\n",
    "    if data['created_at'][i] == '2021-03-02 10:00:00 UTC':\n",
    "        df = df.append(data.iloc[i])"
   ]
  },
  {
   "cell_type": "code",
   "execution_count": 131,
   "metadata": {},
   "outputs": [
    {
     "data": {
      "text/plain": [
       "34"
      ]
     },
     "execution_count": 131,
     "metadata": {},
     "output_type": "execute_result"
    }
   ],
   "source": [
    "len(df)"
   ]
  },
  {
   "cell_type": "code",
   "execution_count": 132,
   "metadata": {},
   "outputs": [],
   "source": [
    "new_df = pd.merge(df, pointdata,  how='left', left_on=['Lat','Long'], right_on = ['Lat','Long'])"
   ]
  },
  {
   "cell_type": "code",
   "execution_count": 133,
   "metadata": {},
   "outputs": [],
   "source": [
    "new_df=new_df.dropna()"
   ]
  },
  {
   "cell_type": "code",
   "execution_count": 134,
   "metadata": {},
   "outputs": [
    {
     "data": {
      "text/plain": [
       "28"
      ]
     },
     "execution_count": 134,
     "metadata": {},
     "output_type": "execute_result"
    }
   ],
   "source": [
    "len(new_df)"
   ]
  },
  {
   "cell_type": "code",
   "execution_count": 91,
   "metadata": {},
   "outputs": [],
   "source": [
    "raster = rasterio.open(r\"C:\\Users\\likith\\Desktop\\QGIS\\project\\landsat\\preprocessing_and _data_extraction\\image\\2021_04_19\\L1\\LC08_L1TP_144051_20210419_20210424_02_T1_B5.tif\")"
   ]
  },
  {
   "cell_type": "code",
   "execution_count": 92,
   "metadata": {},
   "outputs": [],
   "source": [
    "raster_l2 = rasterio.open(r\"C:\\Users\\likith\\Desktop\\QGIS\\project\\landsat\\preprocessing_and _data_extraction\\image\\2021_04_19\\L2\\LC08_L2SP_144051_20210419_20210424_02_T1_SR_B5.tif\")"
   ]
  },
  {
   "cell_type": "code",
   "execution_count": 93,
   "metadata": {},
   "outputs": [],
   "source": [
    "ex = []\n",
    "val = []\n",
    "for i in pointdata['geometry']:\n",
    "    x = i.xy[0][0]\n",
    "    y = i.xy[1][0]\n",
    "    row,col = raster.index(x,y)\n",
    "    ex.append(raster.read(1)[row,col])\n",
    "    row,col = raster_l2.index(x,y)\n",
    "    val.append(raster_l2.read(1)[row,col])\n",
    "l1 = []\n",
    "for i in ex:\n",
    "    l1.append(((i*0.00002)-0.100000)/0.82544361547)\n",
    "l2 =[]\n",
    "for i in val:\n",
    "    l2.append((i*0.0000275)-0.2)\n",
    "#correct"
   ]
  },
  {
   "cell_type": "code",
   "execution_count": 94,
   "metadata": {},
   "outputs": [],
   "source": [
    "ar = []\n",
    "for i in range(len(l2)):\n",
    "    ar.append(l1[i]-l2[i])"
   ]
  },
  {
   "cell_type": "code",
   "execution_count": 95,
   "metadata": {},
   "outputs": [],
   "source": [
    "pointdata['AR_B5']=ar"
   ]
  },
  {
   "cell_type": "code",
   "execution_count": 96,
   "metadata": {},
   "outputs": [],
   "source": [
    "pointdata.to_csv(\"2021-04-19_cpcb.csv\")"
   ]
  },
  {
   "cell_type": "code",
   "execution_count": 44,
   "metadata": {},
   "outputs": [
    {
     "ename": "NameError",
     "evalue": "name 'complete_data' is not defined",
     "output_type": "error",
     "traceback": [
      "\u001b[1;31m---------------------------------------------------------------------------\u001b[0m",
      "\u001b[1;31mNameError\u001b[0m                                 Traceback (most recent call last)",
      "\u001b[1;32m~\\AppData\\Local\\Temp/ipykernel_6644/3140691511.py\u001b[0m in \u001b[0;36m<module>\u001b[1;34m\u001b[0m\n\u001b[1;32m----> 1\u001b[1;33m \u001b[0mcomplete_data\u001b[0m\u001b[1;33m=\u001b[0m\u001b[0mcomplete_data\u001b[0m\u001b[1;33m.\u001b[0m\u001b[0mappend\u001b[0m\u001b[1;33m(\u001b[0m\u001b[0mnew_df\u001b[0m\u001b[1;33m)\u001b[0m\u001b[1;33m\u001b[0m\u001b[1;33m\u001b[0m\u001b[0m\n\u001b[0m",
      "\u001b[1;31mNameError\u001b[0m: name 'complete_data' is not defined"
     ]
    }
   ],
   "source": [
    "complete_data=complete_data.append(new_df)"
   ]
  },
  {
   "cell_type": "code",
   "execution_count": 157,
   "metadata": {},
   "outputs": [],
   "source": [
    "complete_data.to_csv(\"purp_data.csv\")"
   ]
  },
  {
   "cell_type": "code",
   "execution_count": 87,
   "metadata": {},
   "outputs": [
    {
     "data": {
      "text/html": [
       "<div>\n",
       "<style scoped>\n",
       "    .dataframe tbody tr th:only-of-type {\n",
       "        vertical-align: middle;\n",
       "    }\n",
       "\n",
       "    .dataframe tbody tr th {\n",
       "        vertical-align: top;\n",
       "    }\n",
       "\n",
       "    .dataframe thead th {\n",
       "        text-align: right;\n",
       "    }\n",
       "</style>\n",
       "<table border=\"1\" class=\"dataframe\">\n",
       "  <thead>\n",
       "    <tr style=\"text-align: right;\">\n",
       "      <th></th>\n",
       "      <th>created_at</th>\n",
       "      <th>PM1.0_CF1_ug/m3</th>\n",
       "      <th>PM2.5_CF1_ug/m3</th>\n",
       "      <th>PM10.0_CF1_ug/m3</th>\n",
       "      <th>UptimeMinutes</th>\n",
       "      <th>RSSI_dbm</th>\n",
       "      <th>Temperature_F</th>\n",
       "      <th>Humidity_%</th>\n",
       "      <th>PM2.5_ATM_ug/m3</th>\n",
       "      <th>Lat</th>\n",
       "      <th>Long</th>\n",
       "      <th>Object_ID</th>\n",
       "      <th>geometry</th>\n",
       "      <th>AR_B1</th>\n",
       "      <th>AR_B2</th>\n",
       "      <th>AR_B3</th>\n",
       "      <th>AR_B4</th>\n",
       "      <th>AR_B5</th>\n",
       "    </tr>\n",
       "  </thead>\n",
       "  <tbody>\n",
       "    <tr>\n",
       "      <th>0</th>\n",
       "      <td>2021-04-19 10:00:00 UTC</td>\n",
       "      <td>38.12</td>\n",
       "      <td>54.57</td>\n",
       "      <td>55.78</td>\n",
       "      <td>6297.0</td>\n",
       "      <td>-28.43</td>\n",
       "      <td>99.13</td>\n",
       "      <td>23.67</td>\n",
       "      <td>43.25</td>\n",
       "      <td>12.997507</td>\n",
       "      <td>77.605669</td>\n",
       "      <td>1.0</td>\n",
       "      <td>POINT (782653.291 1438306.293)</td>\n",
       "      <td>0.111770</td>\n",
       "      <td>0.080799</td>\n",
       "      <td>0.032913</td>\n",
       "      <td>0.021257</td>\n",
       "      <td>0.006816</td>\n",
       "    </tr>\n",
       "    <tr>\n",
       "      <th>2</th>\n",
       "      <td>2021-04-19 10:00:00 UTC</td>\n",
       "      <td>40.13</td>\n",
       "      <td>53.98</td>\n",
       "      <td>56.53</td>\n",
       "      <td>55294.0</td>\n",
       "      <td>-31.77</td>\n",
       "      <td>111.00</td>\n",
       "      <td>11.83</td>\n",
       "      <td>42.99</td>\n",
       "      <td>13.045313</td>\n",
       "      <td>77.573394</td>\n",
       "      <td>5.0</td>\n",
       "      <td>POINT (779096.488 1443562.179)</td>\n",
       "      <td>0.116619</td>\n",
       "      <td>0.085388</td>\n",
       "      <td>0.034818</td>\n",
       "      <td>0.022671</td>\n",
       "      <td>0.009714</td>\n",
       "    </tr>\n",
       "    <tr>\n",
       "      <th>3</th>\n",
       "      <td>2021-04-19 10:00:00 UTC</td>\n",
       "      <td>34.98</td>\n",
       "      <td>49.97</td>\n",
       "      <td>56.74</td>\n",
       "      <td>55294.0</td>\n",
       "      <td>-36.40</td>\n",
       "      <td>111.93</td>\n",
       "      <td>12.83</td>\n",
       "      <td>41.07</td>\n",
       "      <td>13.045878</td>\n",
       "      <td>77.574580</td>\n",
       "      <td>2.0</td>\n",
       "      <td>POINT (779224.559 1443626.024)</td>\n",
       "      <td>0.116210</td>\n",
       "      <td>0.083428</td>\n",
       "      <td>0.031805</td>\n",
       "      <td>0.020028</td>\n",
       "      <td>0.008862</td>\n",
       "    </tr>\n",
       "    <tr>\n",
       "      <th>4</th>\n",
       "      <td>2021-04-19 10:00:00 UTC</td>\n",
       "      <td>27.18</td>\n",
       "      <td>39.20</td>\n",
       "      <td>42.27</td>\n",
       "      <td>55295.0</td>\n",
       "      <td>-43.87</td>\n",
       "      <td>112.40</td>\n",
       "      <td>12.13</td>\n",
       "      <td>35.23</td>\n",
       "      <td>13.045371</td>\n",
       "      <td>77.574708</td>\n",
       "      <td>4.0</td>\n",
       "      <td>POINT (779239.019 1443570.046)</td>\n",
       "      <td>0.115493</td>\n",
       "      <td>0.083824</td>\n",
       "      <td>0.032182</td>\n",
       "      <td>0.022341</td>\n",
       "      <td>0.008709</td>\n",
       "    </tr>\n",
       "    <tr>\n",
       "      <th>5</th>\n",
       "      <td>2021-04-19 10:00:00 UTC</td>\n",
       "      <td>36.41</td>\n",
       "      <td>51.77</td>\n",
       "      <td>55.93</td>\n",
       "      <td>1025.0</td>\n",
       "      <td>-62.27</td>\n",
       "      <td>96.10</td>\n",
       "      <td>24.27</td>\n",
       "      <td>41.96</td>\n",
       "      <td>13.054695</td>\n",
       "      <td>77.542158</td>\n",
       "      <td>6.0</td>\n",
       "      <td>POINT (775696.365 1444566.447)</td>\n",
       "      <td>0.118852</td>\n",
       "      <td>0.089295</td>\n",
       "      <td>0.040089</td>\n",
       "      <td>0.030143</td>\n",
       "      <td>0.009034</td>\n",
       "    </tr>\n",
       "  </tbody>\n",
       "</table>\n",
       "</div>"
      ],
      "text/plain": [
       "                created_at  PM1.0_CF1_ug/m3  PM2.5_CF1_ug/m3  \\\n",
       "0  2021-04-19 10:00:00 UTC            38.12            54.57   \n",
       "2  2021-04-19 10:00:00 UTC            40.13            53.98   \n",
       "3  2021-04-19 10:00:00 UTC            34.98            49.97   \n",
       "4  2021-04-19 10:00:00 UTC            27.18            39.20   \n",
       "5  2021-04-19 10:00:00 UTC            36.41            51.77   \n",
       "\n",
       "   PM10.0_CF1_ug/m3  UptimeMinutes  RSSI_dbm  Temperature_F  Humidity_%  \\\n",
       "0             55.78         6297.0    -28.43          99.13       23.67   \n",
       "2             56.53        55294.0    -31.77         111.00       11.83   \n",
       "3             56.74        55294.0    -36.40         111.93       12.83   \n",
       "4             42.27        55295.0    -43.87         112.40       12.13   \n",
       "5             55.93         1025.0    -62.27          96.10       24.27   \n",
       "\n",
       "   PM2.5_ATM_ug/m3        Lat       Long  Object_ID  \\\n",
       "0            43.25  12.997507  77.605669        1.0   \n",
       "2            42.99  13.045313  77.573394        5.0   \n",
       "3            41.07  13.045878  77.574580        2.0   \n",
       "4            35.23  13.045371  77.574708        4.0   \n",
       "5            41.96  13.054695  77.542158        6.0   \n",
       "\n",
       "                         geometry     AR_B1     AR_B2     AR_B3     AR_B4  \\\n",
       "0  POINT (782653.291 1438306.293)  0.111770  0.080799  0.032913  0.021257   \n",
       "2  POINT (779096.488 1443562.179)  0.116619  0.085388  0.034818  0.022671   \n",
       "3  POINT (779224.559 1443626.024)  0.116210  0.083428  0.031805  0.020028   \n",
       "4  POINT (779239.019 1443570.046)  0.115493  0.083824  0.032182  0.022341   \n",
       "5  POINT (775696.365 1444566.447)  0.118852  0.089295  0.040089  0.030143   \n",
       "\n",
       "      AR_B5  \n",
       "0  0.006816  \n",
       "2  0.009714  \n",
       "3  0.008862  \n",
       "4  0.008709  \n",
       "5  0.009034  "
      ]
     },
     "execution_count": 87,
     "metadata": {},
     "output_type": "execute_result"
    }
   ],
   "source": [
    "new_df.head()"
   ]
  },
  {
   "cell_type": "code",
   "execution_count": 88,
   "metadata": {},
   "outputs": [],
   "source": [
    "complete_data = pd.DataFrame()"
   ]
  },
  {
   "cell_type": "code",
   "execution_count": 31,
   "metadata": {},
   "outputs": [
    {
     "data": {
      "text/html": [
       "<div>\n",
       "<style scoped>\n",
       "    .dataframe tbody tr th:only-of-type {\n",
       "        vertical-align: middle;\n",
       "    }\n",
       "\n",
       "    .dataframe tbody tr th {\n",
       "        vertical-align: top;\n",
       "    }\n",
       "\n",
       "    .dataframe thead th {\n",
       "        text-align: right;\n",
       "    }\n",
       "</style>\n",
       "<table border=\"1\" class=\"dataframe\">\n",
       "  <thead>\n",
       "    <tr style=\"text-align: right;\">\n",
       "      <th></th>\n",
       "      <th>created_at</th>\n",
       "      <th>PM1.0_CF1_ug/m3</th>\n",
       "      <th>PM2.5_CF1_ug/m3</th>\n",
       "      <th>PM10.0_CF1_ug/m3</th>\n",
       "      <th>UptimeMinutes</th>\n",
       "      <th>RSSI_dbm</th>\n",
       "      <th>Temperature_F</th>\n",
       "      <th>Humidity_%</th>\n",
       "      <th>PM2.5_ATM_ug/m3</th>\n",
       "      <th>Lat</th>\n",
       "      <th>Long</th>\n",
       "    </tr>\n",
       "  </thead>\n",
       "  <tbody>\n",
       "    <tr>\n",
       "      <th>0</th>\n",
       "      <td>2021-04-19 00:00:00 UTC</td>\n",
       "      <td>34.04</td>\n",
       "      <td>54.09</td>\n",
       "      <td>55.89</td>\n",
       "      <td>5697.0</td>\n",
       "      <td>-24.90</td>\n",
       "      <td>86.43</td>\n",
       "      <td>49.30</td>\n",
       "      <td>43.02</td>\n",
       "      <td>12.997507</td>\n",
       "      <td>77.605669</td>\n",
       "    </tr>\n",
       "    <tr>\n",
       "      <th>1</th>\n",
       "      <td>2021-04-19 01:00:00 UTC</td>\n",
       "      <td>31.93</td>\n",
       "      <td>49.81</td>\n",
       "      <td>51.35</td>\n",
       "      <td>5757.0</td>\n",
       "      <td>-26.30</td>\n",
       "      <td>86.43</td>\n",
       "      <td>48.73</td>\n",
       "      <td>40.98</td>\n",
       "      <td>12.997507</td>\n",
       "      <td>77.605669</td>\n",
       "    </tr>\n",
       "    <tr>\n",
       "      <th>2</th>\n",
       "      <td>2021-04-19 02:00:00 UTC</td>\n",
       "      <td>34.78</td>\n",
       "      <td>54.05</td>\n",
       "      <td>55.86</td>\n",
       "      <td>5817.0</td>\n",
       "      <td>-27.03</td>\n",
       "      <td>86.87</td>\n",
       "      <td>48.13</td>\n",
       "      <td>42.99</td>\n",
       "      <td>12.997507</td>\n",
       "      <td>77.605669</td>\n",
       "    </tr>\n",
       "    <tr>\n",
       "      <th>3</th>\n",
       "      <td>2021-04-19 03:00:00 UTC</td>\n",
       "      <td>34.83</td>\n",
       "      <td>53.89</td>\n",
       "      <td>55.61</td>\n",
       "      <td>5877.0</td>\n",
       "      <td>-28.47</td>\n",
       "      <td>88.47</td>\n",
       "      <td>45.57</td>\n",
       "      <td>42.95</td>\n",
       "      <td>12.997507</td>\n",
       "      <td>77.605669</td>\n",
       "    </tr>\n",
       "    <tr>\n",
       "      <th>4</th>\n",
       "      <td>2021-04-19 04:00:00 UTC</td>\n",
       "      <td>34.85</td>\n",
       "      <td>53.08</td>\n",
       "      <td>54.58</td>\n",
       "      <td>5937.0</td>\n",
       "      <td>-27.90</td>\n",
       "      <td>90.83</td>\n",
       "      <td>41.17</td>\n",
       "      <td>42.60</td>\n",
       "      <td>12.997507</td>\n",
       "      <td>77.605669</td>\n",
       "    </tr>\n",
       "  </tbody>\n",
       "</table>\n",
       "</div>"
      ],
      "text/plain": [
       "                created_at  PM1.0_CF1_ug/m3  PM2.5_CF1_ug/m3  \\\n",
       "0  2021-04-19 00:00:00 UTC            34.04            54.09   \n",
       "1  2021-04-19 01:00:00 UTC            31.93            49.81   \n",
       "2  2021-04-19 02:00:00 UTC            34.78            54.05   \n",
       "3  2021-04-19 03:00:00 UTC            34.83            53.89   \n",
       "4  2021-04-19 04:00:00 UTC            34.85            53.08   \n",
       "\n",
       "   PM10.0_CF1_ug/m3  UptimeMinutes  RSSI_dbm  Temperature_F  Humidity_%  \\\n",
       "0             55.89         5697.0    -24.90          86.43       49.30   \n",
       "1             51.35         5757.0    -26.30          86.43       48.73   \n",
       "2             55.86         5817.0    -27.03          86.87       48.13   \n",
       "3             55.61         5877.0    -28.47          88.47       45.57   \n",
       "4             54.58         5937.0    -27.90          90.83       41.17   \n",
       "\n",
       "   PM2.5_ATM_ug/m3        Lat       Long  \n",
       "0            43.02  12.997507  77.605669  \n",
       "1            40.98  12.997507  77.605669  \n",
       "2            42.99  12.997507  77.605669  \n",
       "3            42.95  12.997507  77.605669  \n",
       "4            42.60  12.997507  77.605669  "
      ]
     },
     "execution_count": 31,
     "metadata": {},
     "output_type": "execute_result"
    }
   ],
   "source": [
    "data.head()"
   ]
  },
  {
   "cell_type": "code",
   "execution_count": 6,
   "metadata": {},
   "outputs": [],
   "source": [
    "raster = rasterio.open(r\"C:\\Users\\likith\\Desktop\\QGIS\\project\\landsat\\preprocessing_and _data_extraction\\01_06_2019\\pre_processing\\Data\\B1.tif\")"
   ]
  },
  {
   "cell_type": "code",
   "execution_count": 7,
   "metadata": {},
   "outputs": [],
   "source": [
    "ex = []\n",
    "for i in pointdata['geometry']:\n",
    "    x = i.xy[0][0]\n",
    "    y = i.xy[1][0]\n",
    "    row,col = raster.index(x,y)\n",
    "    ex.append(raster.read(1)[row,col])\n",
    "#correct"
   ]
  },
  {
   "cell_type": "code",
   "execution_count": null,
   "metadata": {},
   "outputs": [],
   "source": [
    "val = []\n",
    "for i in l1:\n",
    "    val.append(((i*0.00002)-0.100000)/0.90618548032)"
   ]
  },
  {
   "cell_type": "code",
   "execution_count": 8,
   "metadata": {
    "scrolled": true
   },
   "outputs": [
    {
     "data": {
      "text/plain": [
       "[0.10640396,\n",
       " 0.12757063,\n",
       " 0.121043354,\n",
       " 0.12495566,\n",
       " 0.1270487,\n",
       " 0.11452732,\n",
       " 0.1208031,\n",
       " 0.11487005,\n",
       " 0.11490812,\n",
       " 0.12607771,\n",
       " 0.0971471,\n",
       " 0.10723242,\n",
       " 0.12174301,\n",
       " 0.105604656,\n",
       " 0.13545193,\n",
       " 0.11903602,\n",
       " 0.11562781,\n",
       " 0.13162771,\n",
       " 0.13877492,\n",
       " 0.11413008,\n",
       " 0.11103977,\n",
       " 0.11521808,\n",
       " 0.11608982,\n",
       " 0.119799644,\n",
       " 0.11300772,\n",
       " 0.11607061,\n",
       " 0.11943128,\n",
       " 0.10812491,\n",
       " 0.13450122,\n",
       " 0.123935014,\n",
       " 0.12150025,\n",
       " 0.12042467,\n",
       " 0.120356925,\n",
       " 0.123340376,\n",
       " 0.12643814,\n",
       " 0.104733564,\n",
       " 0.15491647]"
      ]
     },
     "execution_count": 8,
     "metadata": {},
     "output_type": "execute_result"
    }
   ],
   "source": [
    "ex"
   ]
  },
  {
   "cell_type": "code",
   "execution_count": 69,
   "metadata": {},
   "outputs": [],
   "source": [
    "raster_toa = rasterio.open(r\"C:\\Users\\likith\\Desktop\\QGIS\\project\\landsat\\preprocessing_and _data_extraction\\01_06_2019\\pre_processing\\TOA\\01_06_TOA (1).tif\")"
   ]
  },
  {
   "cell_type": "code",
   "execution_count": 9,
   "metadata": {},
   "outputs": [],
   "source": [
    "raster_l1 = rasterio.open(r\"C:\\Users\\likith\\Desktop\\QGIS\\project\\landsat\\preprocessing_and _data_extraction\\01_06_2019\\L1C2\\LC08_L1TP_144051_20190601_20200828_02_T1_B1.tif\")"
   ]
  },
  {
   "cell_type": "code",
   "execution_count": 10,
   "metadata": {
    "scrolled": true
   },
   "outputs": [
    {
     "data": {
      "text/plain": [
       "[12282,\n",
       " 13015,\n",
       " 13017,\n",
       " 12948,\n",
       " 12863,\n",
       " 11886,\n",
       " 12768,\n",
       " 13436,\n",
       " 12095,\n",
       " 13056,\n",
       " 13073,\n",
       " 11685,\n",
       " 12812,\n",
       " 12378,\n",
       " 12376,\n",
       " 11650,\n",
       " 11509,\n",
       " 12742,\n",
       " 11640,\n",
       " 11821,\n",
       " 12065,\n",
       " 12476,\n",
       " 11527,\n",
       " 12692,\n",
       " 12585,\n",
       " 12611,\n",
       " 13133,\n",
       " 12515,\n",
       " 12953,\n",
       " 12628,\n",
       " 12361,\n",
       " 12266,\n",
       " 12533,\n",
       " 12564,\n",
       " 12656,\n",
       " 13490,\n",
       " 12484]"
      ]
     },
     "execution_count": 10,
     "metadata": {},
     "output_type": "execute_result"
    }
   ],
   "source": [
    "l1 = []\n",
    "for i in pointdata['geometry']:\n",
    "    x = i.xy[0][0]\n",
    "    y = i.xy[1][0]\n",
    "    row,col = raster_l1.index(x,y)\n",
    "    l1.append(raster_l1.read(1)[row,col])\n",
    "l1"
   ]
  },
  {
   "cell_type": "code",
   "execution_count": 15,
   "metadata": {},
   "outputs": [],
   "source": [
    "val = []\n",
    "for i in l1:\n",
    "    val.append(((i*0.00002)-0.100000)/0.90618548032)"
   ]
  },
  {
   "cell_type": "code",
   "execution_count": 16,
   "metadata": {},
   "outputs": [
    {
     "data": {
      "text/plain": [
       "0.00013116358511757403"
      ]
     },
     "execution_count": 16,
     "metadata": {},
     "output_type": "execute_result"
    }
   ],
   "source": [
    "import statistics\n",
    "statistics.variance(val)"
   ]
  },
  {
   "cell_type": "code",
   "execution_count": 17,
   "metadata": {},
   "outputs": [],
   "source": [
    "raster_l2 = rasterio.open(r\"C:\\Users\\likith\\Desktop\\QGIS\\project\\landsat\\preprocessing_and _data_extraction\\01_06_2019\\L2C2\\LC08_L2SP_144051_20190601_20200828_02_T1_SR_B1.tif\")"
   ]
  },
  {
   "cell_type": "code",
   "execution_count": 25,
   "metadata": {},
   "outputs": [],
   "source": [
    "l2 = []\n",
    "for i in pointdata['geometry']:\n",
    "    x = i.xy[0][0]\n",
    "    y = i.xy[1][0]\n",
    "    row,col = raster_l2.index(x,y)\n",
    "    l2.append(raster_l2.read(1)[row,col])"
   ]
  },
  {
   "cell_type": "code",
   "execution_count": 26,
   "metadata": {},
   "outputs": [],
   "source": [
    "ar = []\n",
    "for i in l2:\n",
    "    ar.append((i*0.0000275)-0.2)"
   ]
  },
  {
   "cell_type": "code",
   "execution_count": 29,
   "metadata": {},
   "outputs": [
    {
     "data": {
      "text/plain": [
       "[0.058252499999999985,\n",
       " 0.053659999999999985,\n",
       " 0.06023250000000002,\n",
       " 0.054759999999999975,\n",
       " 0.050744999999999985,\n",
       " 0.04117499999999999,\n",
       " 0.054842500000000016,\n",
       " 0.07588,\n",
       " 0.045520000000000005,\n",
       " 0.05608000000000002,\n",
       " 0.085395,\n",
       " 0.04392499999999999,\n",
       " 0.05489749999999999,\n",
       " 0.06122250000000001,\n",
       " 0.03133,\n",
       " 0.03133,\n",
       " 0.031549999999999995,\n",
       " 0.043429999999999996,\n",
       " 0.011364999999999986,\n",
       " 0.040102499999999985,\n",
       " 0.04871,\n",
       " 0.05382500000000001,\n",
       " 0.031494999999999995,\n",
       " 0.054127499999999995,\n",
       " 0.058499999999999996,\n",
       " 0.05602499999999999,\n",
       " 0.06446750000000001,\n",
       " 0.06180000000000002,\n",
       " 0.04532749999999999,\n",
       " 0.048545000000000005,\n",
       " 0.044942499999999996,\n",
       " 0.04386999999999999,\n",
       " 0.04997499999999999,\n",
       " 0.0476925,\n",
       " 0.046674999999999994,\n",
       " 0.08723750000000002,\n",
       " 0.0143075]"
      ]
     },
     "execution_count": 29,
     "metadata": {},
     "output_type": "execute_result"
    }
   ],
   "source": [
    "ar"
   ]
  },
  {
   "cell_type": "code",
   "execution_count": 27,
   "metadata": {},
   "outputs": [],
   "source": [
    "ls = []\n",
    "for i in range(len(val)):\n",
    "    ls.append(val[i] - ar[i])"
   ]
  },
  {
   "cell_type": "code",
   "execution_count": 28,
   "metadata": {},
   "outputs": [
    {
     "data": {
      "text/plain": [
       "[0.10246514904969609,\n",
       " 0.1232353525313532,\n",
       " 0.11670699360497297,\n",
       " 0.12065662656508988,\n",
       " 0.12279563093624835,\n",
       " 0.11080271647297543,\n",
       " 0.11660142993930775,\n",
       " 0.11030704852832132,\n",
       " 0.11107045866624465,\n",
       " 0.12172024454055907,\n",
       " 0.09278044366632743,\n",
       " 0.1036165385741854,\n",
       " 0.11751753355894337,\n",
       " 0.10161392058344651,\n",
       " 0.13146227950982672,\n",
       " 0.11543906978583887,\n",
       " 0.11210712409564291,\n",
       " 0.1274400959822503,\n",
       " 0.13518336441773987,\n",
       " 0.1104406315803319,\n",
       " 0.10721834256194762,\n",
       " 0.11117433319081677,\n",
       " 0.11255939375822113,\n",
       " 0.11563906914175529,\n",
       " 0.10890502170309596,\n",
       " 0.11195385566015334,\n",
       " 0.11503217587492143,\n",
       " 0.10406008412640289,\n",
       " 0.13019947924913935,\n",
       " 0.11980905478592163,\n",
       " 0.11751872145767822,\n",
       " 0.11649452046073763,\n",
       " 0.11628235378898108,\n",
       " 0.119249040430088,\n",
       " 0.12229702981659887,\n",
       " 0.10014135751605596,\n",
       " 0.15086839748529596]"
      ]
     },
     "execution_count": 28,
     "metadata": {},
     "output_type": "execute_result"
    }
   ],
   "source": [
    "ls"
   ]
  },
  {
   "cell_type": "code",
   "execution_count": 68,
   "metadata": {},
   "outputs": [
    {
     "data": {
      "text/plain": [
       "array([[0.08964732, 0.08964732, 0.08964732, ..., 0.08964732, 0.08964732,\n",
       "        0.08964732],\n",
       "       [0.08964732, 0.08964732, 0.08964732, ..., 0.08964732, 0.08964732,\n",
       "        0.08964732],\n",
       "       [0.08964732, 0.08964732, 0.08964732, ..., 0.08964732, 0.08964732,\n",
       "        0.08964732],\n",
       "       ...,\n",
       "       [0.08964732, 0.08964732, 0.08964732, ..., 0.08964732, 0.08964732,\n",
       "        0.08964732],\n",
       "       [0.08964732, 0.08964732, 0.08964732, ..., 0.08964732, 0.08964732,\n",
       "        0.08964732],\n",
       "       [0.08964732, 0.08964732, 0.08964732, ..., 0.08964732, 0.08964732,\n",
       "        0.08964732]])"
      ]
     },
     "execution_count": 68,
     "metadata": {},
     "output_type": "execute_result"
    }
   ],
   "source": [
    "(((raster_l1.read(1)*0.00002) - 0.100000)/0.90618548032) - ((raster_l2.read(1)*0.0000275)-0.2)"
   ]
  },
  {
   "cell_type": "code",
   "execution_count": 67,
   "metadata": {},
   "outputs": [
    {
     "data": {
      "text/plain": [
       "array([[-3.4028235e+38, -3.4028235e+38, -3.4028235e+38, ...,\n",
       "        -3.4028235e+38, -3.4028235e+38, -3.4028235e+38],\n",
       "       [-3.4028235e+38, -3.4028235e+38, -3.4028235e+38, ...,\n",
       "        -3.4028235e+38, -3.4028235e+38, -3.4028235e+38],\n",
       "       [-3.4028235e+38, -3.4028235e+38, -3.4028235e+38, ...,\n",
       "        -3.4028235e+38, -3.4028235e+38, -3.4028235e+38],\n",
       "       ...,\n",
       "       [-3.4028235e+38, -3.4028235e+38, -3.4028235e+38, ...,\n",
       "        -3.4028235e+38, -3.4028235e+38, -3.4028235e+38],\n",
       "       [-3.4028235e+38, -3.4028235e+38, -3.4028235e+38, ...,\n",
       "        -3.4028235e+38, -3.4028235e+38, -3.4028235e+38],\n",
       "       [-3.4028235e+38, -3.4028235e+38, -3.4028235e+38, ...,\n",
       "        -3.4028235e+38, -3.4028235e+38, -3.4028235e+38]], dtype=float32)"
      ]
     },
     "execution_count": 67,
     "metadata": {},
     "output_type": "execute_result"
    }
   ],
   "source": [
    "raster.read(1)"
   ]
  },
  {
   "cell_type": "code",
   "execution_count": 73,
   "metadata": {},
   "outputs": [],
   "source": [
    "l2 = []\n",
    "for i in pointdata['geometry']:\n",
    "    x = i.xy[0][0]\n",
    "    y = i.xy[1][0]\n",
    "    row,col = raster_l2.index(x,y)\n",
    "    l2.append(((((raster_l1.read(1)*0.00002) - 0.100000)/0.90618548032) - ((raster_l2.read(1)*0.0000275)-0.2))[row,col])"
   ]
  },
  {
   "cell_type": "code",
   "execution_count": 62,
   "metadata": {},
   "outputs": [
    {
     "data": {
      "text/plain": [
       "[0.10640396,\n",
       " 0.12757063,\n",
       " 0.121043354,\n",
       " 0.12495566,\n",
       " 0.1270487,\n",
       " 0.11452732,\n",
       " 0.1208031,\n",
       " 0.11487005,\n",
       " 0.11490812,\n",
       " 0.12607771,\n",
       " 0.0971471,\n",
       " 0.10723242,\n",
       " 0.12174301,\n",
       " 0.105604656,\n",
       " 0.13545193,\n",
       " 0.11903602,\n",
       " 0.11562781,\n",
       " 0.13162771,\n",
       " 0.13877492,\n",
       " 0.11413008,\n",
       " 0.11103977,\n",
       " 0.11521808,\n",
       " 0.11608982,\n",
       " 0.119799644,\n",
       " 0.11300772,\n",
       " 0.11607061,\n",
       " 0.11943128,\n",
       " 0.10812491,\n",
       " 0.13450122,\n",
       " 0.123935014,\n",
       " 0.12150025,\n",
       " 0.12042467,\n",
       " 0.120356925,\n",
       " 0.123340376,\n",
       " 0.12643814,\n",
       " 0.104733564,\n",
       " 0.15491647]"
      ]
     },
     "execution_count": 62,
     "metadata": {},
     "output_type": "execute_result"
    }
   ],
   "source": [
    "ls = []\n",
    "for i in range(len(l1)):\n",
    "    ls.append(l1[i] - l2[i])\n",
    "ex"
   ]
  },
  {
   "cell_type": "code",
   "execution_count": 77,
   "metadata": {},
   "outputs": [
    {
     "name": "stdout",
     "output_type": "stream",
     "text": [
      "3.7017538277573387\n",
      "3.3983344116349508\n",
      "3.5824855432334584\n",
      "3.440448375773635\n",
      "3.347590393738529\n",
      "3.2521548591799805\n",
      "3.47811671426324\n",
      "3.9723152975328677\n",
      "3.33976642296798\n",
      "3.4561755499379805\n",
      "4.494890760594252\n",
      "3.372005413297961\n",
      "3.470815275300942\n",
      "3.778938928303635\n",
      "2.9454348392336844\n",
      "3.0217316551561453\n",
      "3.044843842002389\n",
      "3.1814066608231246\n",
      "2.588041269798271\n",
      "3.232669401543791\n",
      "3.441496661320437\n",
      "3.5096465494422238\n",
      "3.0411168501996384\n",
      "3.4729440612644513\n",
      "3.6304557302541913\n",
      "3.546769926582472\n",
      "3.683376532086866\n",
      "3.759381248606972\n",
      "3.19829038364974\n",
      "3.3291312035827243\n",
      "3.276974408845685\n",
      "3.263577474495229\n",
      "3.385406405637329\n",
      "3.3171094764672047\n",
      "3.2752071677704175\n",
      "4.384655949752693\n",
      "2.6130649119600573\n"
     ]
    }
   ],
   "source": [
    "for i in range(len(l2)):\n",
    "    print((-l2[i]+ex[i])*100/ex[i])"
   ]
  },
  {
   "cell_type": "code",
   "execution_count": null,
   "metadata": {},
   "outputs": [],
   "source": []
  }
 ],
 "metadata": {
  "kernelspec": {
   "display_name": "Python 3 (ipykernel)",
   "language": "python",
   "name": "python3"
  },
  "language_info": {
   "codemirror_mode": {
    "name": "ipython",
    "version": 3
   },
   "file_extension": ".py",
   "mimetype": "text/x-python",
   "name": "python",
   "nbconvert_exporter": "python",
   "pygments_lexer": "ipython3",
   "version": "3.9.6"
  }
 },
 "nbformat": 4,
 "nbformat_minor": 4
}
